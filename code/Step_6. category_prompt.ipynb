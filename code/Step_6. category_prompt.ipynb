{
 "cells": [
  {
   "cell_type": "markdown",
   "metadata": {},
   "source": [
    "# Multi-Category Classification Prompt"
   ]
  },
  {
   "cell_type": "code",
   "execution_count": null,
   "metadata": {},
   "outputs": [],
   "source": [
    "import ollama\n",
    "ollama_model = \"llama3:70b-instruct\"\n",
    "ollama.list()"
   ]
  },
  {
   "cell_type": "code",
   "execution_count": null,
   "metadata": {},
   "outputs": [],
   "source": [
    "#dataload\n",
    "import pandas as pd\n",
    "class myconfig():\n",
    "    patent_data_path = r\"/home/work/lib_data/nghl/kisti/과제2/카테고리_특허_테스트.xlsx\"\n",
    "mcfg = myconfig()\n",
    "\n",
    "summary_data = pd.read_excel(mcfg.patent_data_path)\n",
    "title = list(summary_data[\"등록명(영)\"].str.lower())\n",
    "summary = list(summary_data[\"abstract(영)\"])"
   ]
  },
  {
   "cell_type": "markdown",
   "metadata": {},
   "source": [
    "# Human-written Prompt"
   ]
  },
  {
   "cell_type": "code",
   "execution_count": null,
   "metadata": {},
   "outputs": [],
   "source": [
    "results_multi = []\n",
    "\n",
    "for i in range(len(title)):\n",
    "    prompt = f\"\"\"Recommend IPC subclass codes for this item, providing probabilities that sum to 100%. Please recommend between one and four.\n",
    "\n",
    "    Here's a short description of {title[i]}:\n",
    "    {summary[i]}\n",
    "\n",
    "    What is '{title[i]}''s IPC subclass code?\n",
    "\n",
    "    Format of answer should be 'G06F (50%)'\n",
    "    Do not include maingroup and subgroup details. Just say the first 4 digits of the subclass.\n",
    "    Answer without any further explanations.\n",
    "    \"\"\"\n",
    "    \n",
    "    response = ollama.chat(\n",
    "        model=ollama_model,\n",
    "        messages=[\n",
    "            {\"role\": \"system\", \"content\": \"You are an expert in the International Patent Classification(IPC). Categorize patents without further explanation and subgroup details like '7/00'\"},\n",
    "            {'role': 'user', 'content': prompt}\n",
    "        ]\n",
    "    )\n",
    "    \n",
    "    print(response['message']['content'])\n",
    "    results_multi.append(response['message']['content'])"
   ]
  },
  {
   "cell_type": "markdown",
   "metadata": {},
   "source": [
    "# LLM based Prompt"
   ]
  },
  {
   "cell_type": "code",
   "execution_count": null,
   "metadata": {},
   "outputs": [],
   "source": [
    "#instruction induction\n",
    "ctgr = []\n",
    "for i in range(5):\n",
    "    prompt = \"\"\"I gave a Patent Attorney an instruction, five inputs that are 'Title of Invention-Abstract of the each Invention' pairs.\n",
    "    The Patent Attorney read the instruction and infered an output for every one of the input pairs.\n",
    "\n",
    "    The outputs should be categorized into 1 to 3 classes, depending on their relevance to the invention. Ensure that the number of categories (outputs) for each invention does not exceed 3.\n",
    "\n",
    "    Here are the Title-Abstract pairs and outputs:\n",
    "\n",
    "    Title of Invention: *Distributed Denial Of Service Mitigation In A Container Based Framework\n",
    "    Abstract of Invention : **Abstract of Distributed Denial Of Service Mitigation In A Container Based Framework\n",
    "    Output: H04L(100%)\n",
    "\n",
    "    Title of Invention: *System And Method For Autonomous Lawn Care\n",
    "    Abstract of Invention : **Abstract of System And Method For Autonomous Lawn Care\n",
    "    Output: G05B(40%), A01D(30%), G05D(30%)\n",
    "\n",
    "    Title of Invention: *Interactive Autonomous Vehicle Command Controller\n",
    "    Abstract of Invention : **Abstract of Interactive Autonomous Vehicle Command Controller\n",
    "    Output: G05D(40%), B60Q(30%), B60L(20%), Y02T(10%) \n",
    "\n",
    "    Title of Invention: *Systems, Methods And Devices For Prosthetic Heart Valve With Single Valve Leaflet\n",
    "    Abstract of Invention : **Abstract of Systems, Methods And Devices For Prosthetic Heart Valve With Single Valve Leaflet\n",
    "    Output: A61F(100%)\n",
    "\n",
    "    Title of Invention: *Method For Improving Soil Strength In Excavated Soil\n",
    "    Abstract of Invention : **Abstract of Method For Improving Soil Strength In Excavated Soil\n",
    "    Output: A01B(50%), C09K(50%)\n",
    "\n",
    "    The instruction was\"\"\"\n",
    "\n",
    "    response = ollama.chat(\n",
    "        model=ollama_model,\n",
    "        messages=[\n",
    "        {\"role\": \"system\", \"content\": \"You are a expert of prompt engineering. Generate proper instruction without further explanation.\"},\n",
    "        {'role': 'user', 'content': prompt}],\n",
    "        )\n",
    "\n",
    "    print(response['message']['content'])\n",
    "    ctgr.append(response['message']['content'])"
   ]
  },
  {
   "cell_type": "code",
   "execution_count": null,
   "metadata": {},
   "outputs": [],
   "source": [
    "instruction_cleaned = pd.read_excel('/home/work/lib_data/nghl/kisti/과제2/ctgr_instruction2.xlsx')\n",
    "instruction_list = list(instruction_cleaned['instruction_set'])"
   ]
  },
  {
   "cell_type": "code",
   "execution_count": null,
   "metadata": {},
   "outputs": [],
   "source": [
    "#프롬프트 만들기\n",
    "\n",
    "prompt_dic = {}\n",
    "number = 0\n",
    "\n",
    "for instruction in instruction_list:\n",
    "    input_prompt = []\n",
    "    \n",
    "    for patent, abstract in zip(title, summary):\n",
    "        prompt = f\"\"\"{instruction}\n",
    "\n",
    "   Title of Invention: {patent}\n",
    "   Abstract of Invention: {abstract}\n",
    "   Output: \"\"\"\n",
    "        input_prompt.append(prompt)\n",
    "    \n",
    "    prompt_dic[number] = input_prompt\n",
    "    number += 1"
   ]
  },
  {
   "cell_type": "code",
   "execution_count": null,
   "metadata": {},
   "outputs": [],
   "source": [
    "#추론 시작\n",
    "from tqdm import tqdm\n",
    "\n",
    "result = {}\n",
    "\n",
    "for i in tqdm(range(len(instruction_list))):\n",
    "    \n",
    "    prompt_list = prompt_dic[i]\n",
    "    result_list = []\n",
    "    \n",
    "    for each_prompt in prompt_list:\n",
    "        response = ollama.chat(\n",
    "            model=ollama_model,\n",
    "            messages=[\n",
    "                {\"role\": \"system\", \"content\": \"You are a helpful Patent Attorney of this categorizing task. Categorize patents without further explanation and subgroup details like '7/00'\"},\n",
    "                {'role': 'user', 'content': each_prompt}],\n",
    "            )\n",
    "        print(response['message']['content'])\n",
    "        result_list.append(response['message']['content'])\n",
    "    \n",
    "    result[i] = result_list"
   ]
  },
  {
   "cell_type": "code",
   "execution_count": null,
   "metadata": {},
   "outputs": [],
   "source": [
    "result_df = pd.DataFrame.from_dict(result, orient='index')"
   ]
  },
  {
   "cell_type": "code",
   "execution_count": null,
   "metadata": {},
   "outputs": [],
   "source": [
    "#LLM based prompt\n",
    "results_multi = []\n",
    "\n",
    "for i in range(len(title)):\n",
    "    prompt = f\"\"\"Classify the provided Title-Abstract pairs into relevant International Patent Classification (IPC) codes. \n",
    "    Assign a percentage weight to each IPC code, indicating its relevance to the invention. \n",
    "    Ensure that the total number of IPC codes for each invention does not exceed 4.\n",
    "\n",
    "    Title of Invention: {patent}\n",
    "    Abstract of Invention: {abstract}\n",
    "    Output: \"\"\"\n",
    "    \n",
    "    response = ollama.chat(\n",
    "        model=ollama_model,\n",
    "        messages=[\n",
    "            {\"role\": \"system\", \"content\": \"You are an expert in the International Patent Classification(IPC). Categorize patents without further explanation and subgroup details like '7/00'\"},\n",
    "            {'role': 'user', 'content': prompt}\n",
    "        ]\n",
    "    )\n",
    "    \n",
    "    print(response['message']['content'])\n",
    "    results_multi.append(response['message']['content'])"
   ]
  }
 ],
 "metadata": {
  "language_info": {
   "name": "python"
  }
 },
 "nbformat": 4,
 "nbformat_minor": 2
}
