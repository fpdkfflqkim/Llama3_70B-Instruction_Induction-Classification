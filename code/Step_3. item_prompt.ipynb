{
 "cells": [
  {
   "cell_type": "code",
   "execution_count": null,
   "metadata": {},
   "outputs": [],
   "source": [
    "class myconfig():\n",
    "    data_path = r\"/home/work/lib_data/KISTI/wiki_summary_data.csv\"\n",
    "mcfg = myconfig()"
   ]
  },
  {
   "cell_type": "code",
   "execution_count": null,
   "metadata": {},
   "outputs": [],
   "source": [
    "import pandas as pd\n",
    "summary_data = pd.read_csv(mcfg.data_path)\n",
    "title = list(summary_data[\"title\"])\n",
    "summary = list(summary_data[\"summary\"])"
   ]
  },
  {
   "cell_type": "code",
   "execution_count": null,
   "metadata": {},
   "outputs": [],
   "source": [
    "import ollama\n",
    "ollama_model = \"llama3:70b-instruct\"\n",
    "# ollama.pull(ollama_model)\n",
    "ollama.list()\n",
    "# ollama.delete(\"llama3:70b\")"
   ]
  },
  {
   "cell_type": "code",
   "execution_count": null,
   "metadata": {},
   "outputs": [],
   "source": [
    "prompt = \"\"\"I gave a business expert an instruction, inputs, and summary of the wiki article for each inputs.\n",
    "The expert read the instruction and description, and inference an output for every one of the inputs.\n",
    "\n",
    "* Criteria of Classification\n",
    "    Category: 'Item' \n",
    "        - Definition: Item is a technology, an idea that can have commercial, national, or social value in the commercial market. It also refers to a product and a service that is currently commercialized in the market or the technology to implement it. \n",
    "        - Sub-categories of 'Item'\n",
    "            technology: A set of knowledge, skills, or methods used to develop, produce, or deliver a product or service that has commercial value.\n",
    "            product: Tangible goods or merchandise that can be sold, traded, or exchanged in the market, having commercial value.\n",
    "            service: Intangible offerings that provide value to customers, such as consulting, training, maintenance, or other expert assistance.\n",
    "            idea: Novel concepts, methods, or approaches that have the potential to generate commercial value when developed and implemented.\n",
    "            raw material: Unprocessed substances or resources used as inputs for manufacturing products, having commercial value due to their scarcity, rarity, or utility.\n",
    "\n",
    "    Category: 'Non-item'\n",
    "        - Definition: 'Non-item' is a what does not belong to 'Item'\n",
    "        - Sub-categories of 'Non-item'\n",
    "                person: A person's name refers to the identity label assigned to an individual, often used to distinguish one person from another.\n",
    "                place: Geographic locations, addresses, or sites that have significance in the market, such as offices, factories, retail stores, or other business premises.\n",
    "                organization: Entities composed of people, assets, and systems that operate together to achieve specific goals, such as companies, non-profits, or government agencies.\n",
    "                certification: Official recognition or endorsements given to individuals, products, or services that meet certain standards, regulations, or requirements.\n",
    "                regulation: Rules, guidelines, or laws enforced by governments or regulatory bodies to govern business practices, ensuring fairness, safety, and compliance.\n",
    "                law: Statutes, acts, or legislation enacted by governments to regulate business activities, protect consumers, and maintain social order.\n",
    "\n",
    "    Category : Etc\n",
    "        - Definition : Something that does not belong to both 'Item' and 'Non-item'\n",
    "\n",
    "Here are the input-output pairs:\n",
    "\n",
    "Input: *Artificial intelligence\n",
    "*description of 'Artificial intelligence'\n",
    "\n",
    "Output: 1. Category(Item/Non-item): Item\n",
    "2. Sub-category of Category: technology\n",
    "3. Explanation: Explanation of the reason why 'Artificial intelligence' belongs to Item and technology\n",
    "\n",
    "Input: *Federal Bureau of Investigation\n",
    "*description of 'Federal Bureau of Investigation'\n",
    "\n",
    "Output: 1. Category(Item/Non-item): Non-item\n",
    "2. Sub-category of Category: organization\n",
    "3. Explanation: Explanation of the reason why 'Federal Bureau of Investigation' belongs to Non-item and organization\n",
    "\n",
    "\n",
    "The instruction was\"\"\""
   ]
  },
  {
   "cell_type": "code",
   "execution_count": null,
   "metadata": {},
   "outputs": [],
   "source": [
    "response = ollama.chat(\n",
    "    model=ollama_model,\n",
    "    messages=[\n",
    "    {\"role\": \"system\", \"content\": \"You are a expert of prompt engineering. Generate proper instruction.\"},\n",
    "    {'role': 'user', 'content': prompt}],\n",
    "    )\n",
    "\n",
    "print(response['message']['content'])"
   ]
  }
 ],
 "metadata": {
  "kernelspec": {
   "display_name": "forLLM",
   "language": "python",
   "name": "python3"
  },
  "language_info": {
   "codemirror_mode": {
    "name": "ipython",
    "version": 3
   },
   "file_extension": ".py",
   "mimetype": "text/x-python",
   "name": "python",
   "nbconvert_exporter": "python",
   "pygments_lexer": "ipython3",
   "version": "3.10.6"
  }
 },
 "nbformat": 4,
 "nbformat_minor": 2
}
