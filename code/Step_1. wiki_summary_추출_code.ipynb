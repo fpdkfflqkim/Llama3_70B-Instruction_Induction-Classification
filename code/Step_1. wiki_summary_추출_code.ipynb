{
 "cells": [
  {
   "cell_type": "markdown",
   "metadata": {},
   "source": [
    "# wiki summary 추출 code"
   ]
  },
  {
   "cell_type": "code",
   "execution_count": null,
   "metadata": {},
   "outputs": [],
   "source": [
    "!pip install wikipedia-api"
   ]
  },
  {
   "cell_type": "code",
   "execution_count": null,
   "metadata": {},
   "outputs": [],
   "source": [
    "import pandas as pd\n",
    "title_list = pd.read_csv(\"seealso_three.csv\")"
   ]
  },
  {
   "cell_type": "code",
   "execution_count": null,
   "metadata": {},
   "outputs": [],
   "source": [
    "# title_list = title_list[\"TITLE\"].to_list()\n",
    "title_list = title_list[\"TO_TITLE\"].to_list()\n",
    "\n",
    "title_list = list(set(title_list))\n",
    "print(len(title_list))"
   ]
  },
  {
   "cell_type": "code",
   "execution_count": null,
   "metadata": {},
   "outputs": [],
   "source": [
    "class myconfig():\n",
    "    def __init__(self):\n",
    "        \n",
    "        self.agent = 'new project'\n",
    "        self.page_title= title_list\n",
    "        # self.start_date= datetime(2022, 1, 1)\n",
    "        # self.end_date= datetime(2024,  3, 31)\n",
    "        # self.limit = 100\n",
    "        self.language='en'\n",
    "        self.kowiki = 'en.wikipedia'\n",
    "        \n",
    "mcfg = myconfig()"
   ]
  },
  {
   "cell_type": "code",
   "execution_count": null,
   "metadata": {},
   "outputs": [],
   "source": [
    "# import wikipediaapi\n",
    "# wiki = wikipediaapi.Wikipedia(mcfg.agent,\n",
    "#         mcfg.language,\n",
    "#         extract_format=wikipediaapi.ExtractFormat.WIKI)\n",
    "\n",
    "# test_text = []\n",
    "# test_category = []\n",
    "test_summary = []\n",
    "test_no_summary = []"
   ]
  },
  {
   "cell_type": "code",
   "execution_count": null,
   "metadata": {},
   "outputs": [],
   "source": [
    "import wikipediaapi\n",
    "\n",
    "for page_title in mcfg.page_title[50004:]:\n",
    "    index = mcfg.page_title.index(page_title)\n",
    "    \n",
    "    if index % 100 == 0:\n",
    "        wiki = wikipediaapi.Wikipedia(mcfg.agent,\n",
    "                                      mcfg.language,\n",
    "                                      extract_format=wikipediaapi.ExtractFormat.WIKI)\n",
    "            \n",
    "        p_wiki = wiki.page(page_title)\n",
    "        \n",
    "        if p_wiki.exists():\n",
    "            # text = p_wiki.text\n",
    "            # category = list(p_wiki.categories.values())\n",
    "            summary = p_wiki.summary\n",
    "\n",
    "            # test_text.append(text)\n",
    "            # test_category.append(category)\n",
    "\n",
    "            \n",
    "        else:\n",
    "            print(page_title)\n",
    "            test_no_summary.append(page_title)\n",
    "            summary = \"\"\n",
    "\n",
    "        test_summary.append(summary)\n",
    "        \n",
    "    else:\n",
    "        p_wiki = wiki.page(page_title)\n",
    "        \n",
    "        if p_wiki.exists():\n",
    "            # text = p_wiki.text\n",
    "            # category = list(p_wiki.categories.values())\n",
    "            summary = p_wiki.summary\n",
    "\n",
    "            # test_text.append(text)\n",
    "            # test_category.append(category)\n",
    "\n",
    "            \n",
    "        else:\n",
    "            print(page_title)\n",
    "            test_no_summary.append(page_title)\n",
    "            summary = \"\"\n",
    "\n",
    "        test_summary.append(summary)\n",
    "        "
   ]
  },
  {
   "cell_type": "code",
   "execution_count": null,
   "metadata": {},
   "outputs": [],
   "source": [
    "summary_data = pd.DataFrame(zip(title_list,test_summary), columns=[\"title\", \"summary\"])"
   ]
  },
  {
   "cell_type": "code",
   "execution_count": null,
   "metadata": {},
   "outputs": [],
   "source": [
    "summary_data.to_pickle(\"./summary_data.pkl\")"
   ]
  }
 ],
 "metadata": {
  "language_info": {
   "name": "python"
  }
 },
 "nbformat": 4,
 "nbformat_minor": 2
}
